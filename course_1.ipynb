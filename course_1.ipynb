{
 "cells": [
  {
   "cell_type": "code",
   "execution_count": 71,
   "metadata": {},
   "outputs": [],
   "source": [
    "import torch\n",
    "import torch.nn as nn\n",
    "import torch.optim as optim\n",
    "import torchvision\n",
    "import torchvision.transforms as transforms\n"
   ]
  },
  {
   "cell_type": "code",
   "execution_count": 72,
   "metadata": {},
   "outputs": [],
   "source": [
    "transform = transforms.Compose([transforms.ToTensor(), transforms.Normalize((0.5,), (0.5,))])\n",
    "\n",
    "train_dataset = torchvision.datasets.MNIST(root='./data', train=True, transform=transform, download=True)\n",
    "test_dataset = torchvision.datasets.MNIST(root='./data', train=False, transform=transform, download=True)\n",
    "\n",
    "train_dataloader = torch.utils.data.DataLoader(train_dataset, batch_size=64, shuffle=True)\n",
    "test_dataloader = torch.utils.data.DataLoader(test_dataset, batch_size=64, shuffle=False)"
   ]
  },
  {
   "cell_type": "code",
   "execution_count": 73,
   "metadata": {},
   "outputs": [],
   "source": [
    "class SimpleNN(nn.Module):\n",
    "    def __init__(self):\n",
    "        super(SimpleNN, self).__init__()\n",
    "        self.flatten = nn.Flatten()\n",
    "        self.fc1 = nn.Linear(28 * 28, 128)\n",
    "        self.relu = nn.ReLU()\n",
    "        self.fc2 = nn.Linear(128, 10)\n",
    "\n",
    "    def forward(self, x):\n",
    "        x = self.flatten(x)\n",
    "        x = self.fc1(x)\n",
    "        x = self.relu(x)\n",
    "        x = self.fc2(x)\n",
    "        return x\n",
    "\n",
    "model = SimpleNN()"
   ]
  },
  {
   "cell_type": "code",
   "execution_count": 74,
   "metadata": {},
   "outputs": [
    {
     "name": "stdout",
     "output_type": "stream",
     "text": [
      "torch.Size([64, 10])\n"
     ]
    }
   ],
   "source": [
    "X, y = next(iter(train_dataloader))\n",
    "y_pred = model(X)\n",
    "print(y_pred.shape) "
   ]
  },
  {
   "cell_type": "code",
   "execution_count": 75,
   "metadata": {},
   "outputs": [],
   "source": [
    "criterion = nn.CrossEntropyLoss()\n",
    "optimizer = torch.optim.AdamW(model.parameters(), lr=0.001)"
   ]
  },
  {
   "cell_type": "code",
   "execution_count": 76,
   "metadata": {},
   "outputs": [],
   "source": [
    "def train_loop(model, trainloader, optimizer, criterion):\n",
    "    model.train()\n",
    "    running_loss = 0.0\n",
    "    for X, y in trainloader:\n",
    "        y_pred = model(X)\n",
    "        loss = criterion(y_pred, y)\n",
    "\n",
    "        optimizer.zero_grad()\n",
    "        loss.backward()\n",
    "        optimizer.step()\n",
    "        running_loss += loss.item()\n",
    "    return running_loss / len(trainloader)\n",
    "\n",
    "def test_loop(model, testloader, criterion):\n",
    "    model.eval() \n",
    "    running_loss = 0.0\n",
    "    with torch.no_grad(): \n",
    "        for X, y in testloader:\n",
    "            y_pred = model(X)\n",
    "            loss = criterion(y_pred, y)\n",
    "            running_loss += loss.item()\n",
    "    return running_loss / len(testloader)\n"
   ]
  },
  {
   "cell_type": "code",
   "execution_count": 77,
   "metadata": {},
   "outputs": [
    {
     "name": "stdout",
     "output_type": "stream",
     "text": [
      "Epoch 0, Train Loss: 0.38852721746208696, Test Loss: 0.22078275470549513\n",
      "Epoch 1, Train Loss: 0.2003370063788474, Test Loss: 0.16482286382419098\n",
      "Epoch 2, Train Loss: 0.14749822350167263, Test Loss: 0.15750226587543537\n",
      "Epoch 3, Train Loss: 0.12118265480160523, Test Loss: 0.11363172790726682\n",
      "Epoch 4, Train Loss: 0.10149148036477598, Test Loss: 0.11003867438126794\n",
      "Epoch 5, Train Loss: 0.08914456305243988, Test Loss: 0.09815407421804703\n",
      "Epoch 6, Train Loss: 0.07762796656518524, Test Loss: 0.09751806132255157\n",
      "Epoch 7, Train Loss: 0.0728804813903957, Test Loss: 0.08643513117437873\n",
      "Epoch 8, Train Loss: 0.0660835651376509, Test Loss: 0.08330021858134509\n",
      "Epoch 9, Train Loss: 0.06139829201447065, Test Loss: 0.08999869301086544\n"
     ]
    }
   ],
   "source": [
    "for i in range(10):\n",
    "    train_loss = train_loop(model, train_dataloader, optimizer, criterion)\n",
    "    test_loss = test_loop(model, test_dataloader, criterion)\n",
    "    print(f'Epoch {i}, Train Loss: {train_loss}, Test Loss: {test_loss}')"
   ]
  },
  {
   "cell_type": "code",
   "execution_count": 79,
   "metadata": {},
   "outputs": [
    {
     "data": {
      "image/png": "[encoded data removed]",
      "text/plain": [
       "<Figure size 640x480 with 1 Axes>"
      ]
     },
     "metadata": {},
     "output_type": "display_data"
    }
   ],
   "source": [
    "import matplotlib.pyplot as plt\n",
    "\n",
    "X, y = next(iter(test_dataloader))\n",
    "X_single = X[0].unsqueeze(0)\n",
    "y_true = y[0].item()\n",
    "\n",
    "model.eval()\n",
    "with torch.no_grad():\n",
    "    y_pred = model(X_single)\n",
    "    y_pred_label = y_pred.argmax(dim=1).item()\n",
    "\n",
    "plt.imshow(X_single.squeeze(0).squeeze(0), cmap=\"gray\")\n",
    "plt.title(f\"Vrai : {y_true}, Prédit : {y_pred_label}\")\n",
    "plt.axis(\"off\")\n",
    "plt.show()"
   ]
  }
 ],
 "metadata": {
  "kernelspec": {
   "display_name": "venv",
   "language": "python",
   "name": "python3"
  },
  "language_info": {
   "codemirror_mode": {
    "name": "ipython",
    "version": 3
   },
   "file_extension": ".py",
   "mimetype": "text/x-python",
   "name": "python",
   "nbconvert_exporter": "python",
   "pygments_lexer": "ipython3",
   "version": "3.12.3"
  }
 },
 "nbformat": 4,
 "nbformat_minor": 2
}
